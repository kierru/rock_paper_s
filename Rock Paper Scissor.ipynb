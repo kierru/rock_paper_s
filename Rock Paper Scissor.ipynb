{
  "cells": [
    {
      "cell_type": "markdown",
      "metadata": {
        "id": "pDywX7jAL7hE"
      },
      "source": [
        "# **Import Library**"
      ]
    },
    {
      "cell_type": "code",
      "execution_count": 1,
      "metadata": {
        "id": "wigyC8QCL7hH"
      },
      "outputs": [],
      "source": [
        "# Import necessary libraries\n",
        "import os\n",
        "import zipfile\n",
        "import shutil\n",
        "import math\n",
        "import numpy as np\n",
        "import matplotlib.pyplot as plt\n",
        "from keras.preprocessing import image as tf_image\n",
        "from tensorflow.keras.preprocessing.image import ImageDataGenerator\n",
        "from tensorflow.keras.models import Sequential, load_model\n",
        "from tensorflow.keras.layers import Conv2D, MaxPooling2D, Flatten, Dense\n",
        "from tensorflow.keras.callbacks import ModelCheckpoint, EarlyStopping\n",
        "from tensorflow.keras.optimizers import Adam\n",
        "from tensorflow.keras.preprocessing import image as tf_image\n",
        "import tkinter as tk\n",
        "from tkinter import filedialog\n",
        "from PIL import Image, ImageTk\n",
        "import tensorflow as tf\n",
        "import requests\n",
        "import scipy"
      ]
    },
    {
      "cell_type": "markdown",
      "metadata": {},
      "source": [
        "## **GPU TENSORFLOW CONFIG**"
      ]
    },
    {
      "cell_type": "code",
      "execution_count": 2,
      "metadata": {},
      "outputs": [],
      "source": [
        "os.environ['CUDA_LAUNCH_BLOCKING'] = \"1\"\n",
        "os.environ[\"KMP_DUPLICATE_LIB_OK\"]=\"TRUE\""
      ]
    },
    {
      "cell_type": "code",
      "execution_count": 3,
      "metadata": {},
      "outputs": [],
      "source": [
        "# Set GPU memory growth\n",
        "gpus = tf.config.experimental.list_physical_devices('GPU')\n",
        "if gpus:\n",
        "    for gpu in gpus:\n",
        "        tf.config.experimental.set_memory_growth(gpu, True)\n",
        "        tf.config.experimental.set_virtual_device_configuration(gpu,[tf.config.experimental.VirtualDeviceConfiguration(memory_limit=2048)])\n"
      ]
    },
    {
      "cell_type": "markdown",
      "metadata": {
        "id": "w9fHZjnOfioi"
      },
      "source": [
        "# **PATH LOCATION**"
      ]
    },
    {
      "cell_type": "code",
      "execution_count": 4,
      "metadata": {
        "id": "9dz1dnz2L7hJ"
      },
      "outputs": [],
      "source": [
        "# Specify the root directory and zip file path\n",
        "base_dir = r\"./Rock_Paper_Scissor\"\n",
        "if not os.path.exists(base_dir):\n",
        "    os.makedirs(base_dir)\n",
        "zip_file_path = os.path.join(\"rockpaperscissors.zip\")\n",
        "extracted_dir = os.path.join(base_dir, \"dataset\")"
      ]
    },
    {
      "cell_type": "markdown",
      "metadata": {},
      "source": [
        "## **Download Dataset**"
      ]
    },
    {
      "cell_type": "code",
      "execution_count": null,
      "metadata": {},
      "outputs": [],
      "source": [
        "# Specify the URL for the dataset zip file\n",
        "dataset_url = \"https://github.com/dicodingacademy/assets/releases/download/release/rockpaperscissors.zip\"\n",
        "\n",
        "# Download the zip file using requests\n",
        "response = requests.get(dataset_url)\n",
        "with open(zip_file_path, 'wb') as zip_file:\n",
        "    zip_file.write(response.content)"
      ]
    },
    {
      "cell_type": "markdown",
      "metadata": {},
      "source": [
        "## **Extract Dataset**"
      ]
    },
    {
      "cell_type": "code",
      "execution_count": 5,
      "metadata": {
        "id": "fAqzzACzL7hL"
      },
      "outputs": [],
      "source": [
        "# Extract the dataset into the \"dataset\" folder\n",
        "with zipfile.ZipFile(zip_file_path, \"r\") as zip_ref:\n",
        "    zip_ref.extractall(extracted_dir)"
      ]
    },
    {
      "cell_type": "markdown",
      "metadata": {},
      "source": [
        "## **Train Val Folder and Prediction Classes**"
      ]
    },
    {
      "cell_type": "code",
      "execution_count": 6,
      "metadata": {
        "id": "RGM1QZIML7hL"
      },
      "outputs": [],
      "source": [
        "# Define directories for train and validation sets\n",
        "train_dir = os.path.join(extracted_dir, \"train\")\n",
        "validation_dir = os.path.join(extracted_dir, \"val\")\n",
        "\n",
        "# Ensure train and validation directories exist\n",
        "os.makedirs(train_dir, exist_ok=True)\n",
        "os.makedirs(validation_dir, exist_ok=True)\n",
        "\n",
        "classes = ['paper', 'rock', 'scissors']"
      ]
    },
    {
      "cell_type": "markdown",
      "metadata": {
        "id": "RtzeD9YMflHc"
      },
      "source": [
        "# **Preprocessing Data**"
      ]
    },
    {
      "cell_type": "markdown",
      "metadata": {},
      "source": [
        "## **Split Folder into Train and Val**"
      ]
    },
    {
      "cell_type": "code",
      "execution_count": 7,
      "metadata": {
        "id": "tXaaUCYGL7hM"
      },
      "outputs": [],
      "source": [
        "# Split each class into train and validation sets\n",
        "for class_name in classes:\n",
        "    class_images = os.listdir(os.path.join(extracted_dir, \"rockpaperscissors\", class_name))\n",
        "\n",
        "    # Validation and Train 0.4 and  0.6\n",
        "    split_index = math.ceil(0.6 * len(class_images))\n",
        "\n",
        "    train_images = class_images[:split_index]\n",
        "    val_images = class_images[split_index:]\n",
        "\n",
        "    for image in train_images:\n",
        "        os.makedirs(os.path.join(train_dir, class_name), exist_ok=True)\n",
        "        shutil.copy(os.path.join(extracted_dir, \"rockpaperscissors\", class_name, image), os.path.join(train_dir, class_name, image))\n",
        "\n",
        "    for image in val_images:\n",
        "        os.makedirs(os.path.join(validation_dir, class_name), exist_ok=True)\n",
        "        shutil.copy(os.path.join(extracted_dir, \"rockpaperscissors\", class_name, image), os.path.join(validation_dir, class_name, image))"
      ]
    },
    {
      "cell_type": "markdown",
      "metadata": {},
      "source": [
        "## **Data Generator Config / Augment**"
      ]
    },
    {
      "cell_type": "code",
      "execution_count": 8,
      "metadata": {
        "id": "ZIJWwjvXL7hM"
      },
      "outputs": [],
      "source": [
        "# Create data augment\n",
        "train_datagen = ImageDataGenerator(\n",
        "    rescale=1./255,\n",
        "    rotation_range=20,\n",
        "    width_shift_range=0.2,\n",
        "    height_shift_range=0.2,\n",
        "    shear_range=0.2,\n",
        "    zoom_range=0.2,\n",
        "    horizontal_flip=True,\n",
        "    vertical_flip=True,\n",
        "    fill_mode='nearest'\n",
        ")\n",
        "\n",
        "validation_datagen = ImageDataGenerator(rescale=1./255)"
      ]
    },
    {
      "cell_type": "code",
      "execution_count": 9,
      "metadata": {
        "colab": {
          "base_uri": "https://localhost:8080/"
        },
        "id": "U-4bOT2xL7hM",
        "outputId": "baaa6eb9-02f3-4af6-a855-2478acb6cf9b"
      },
      "outputs": [
        {
          "name": "stdout",
          "output_type": "stream",
          "text": [
            "Found 1314 images belonging to 3 classes.\n"
          ]
        },
        {
          "name": "stdout",
          "output_type": "stream",
          "text": [
            "Found 874 images belonging to 3 classes.\n"
          ]
        }
      ],
      "source": [
        "# Create data generators\n",
        "train_generator = train_datagen.flow_from_directory(\n",
        "    train_dir,\n",
        "    target_size=(200, 200),\n",
        "    batch_size=16,\n",
        "    class_mode='categorical'\n",
        ")\n",
        "\n",
        "validation_generator = validation_datagen.flow_from_directory(\n",
        "    validation_dir,\n",
        "    target_size=(200, 200),\n",
        "    batch_size=16,\n",
        "    class_mode='categorical'\n",
        ")"
      ]
    },
    {
      "cell_type": "markdown",
      "metadata": {
        "id": "EgpqR4tjfo3W"
      },
      "source": [
        "# **Choose Model**"
      ]
    },
    {
      "cell_type": "markdown",
      "metadata": {},
      "source": [
        "## **Sequential Model**"
      ]
    },
    {
      "cell_type": "code",
      "execution_count": 10,
      "metadata": {
        "id": "uk2v282ML7hP"
      },
      "outputs": [],
      "source": [
        "# Build the Sequential model\n",
        "model = Sequential()\n",
        "model.add(Conv2D(32, (3, 3), activation='relu', input_shape=(200, 200, 3)))\n",
        "model.add(MaxPooling2D(2, 2))\n",
        "model.add(Conv2D(64, (3, 3), activation='relu'))\n",
        "model.add(MaxPooling2D(2, 2))\n",
        "model.add(Conv2D(128, (3, 3), activation='relu'))\n",
        "model.add(MaxPooling2D(2, 2))\n",
        "model.add(Flatten())\n",
        "model.add(Dense(512, activation='relu'))\n",
        "model.add(Dense(3, activation='softmax'))"
      ]
    },
    {
      "cell_type": "code",
      "execution_count": 11,
      "metadata": {
        "id": "AytOGWBRL7hQ"
      },
      "outputs": [],
      "source": [
        "# Compile the model\n",
        "model.compile(optimizer=Adam(), loss='categorical_crossentropy', metrics=['accuracy'])"
      ]
    },
    {
      "cell_type": "code",
      "execution_count": 12,
      "metadata": {
        "colab": {
          "base_uri": "https://localhost:8080/"
        },
        "id": "smzQZiX3g_tQ",
        "outputId": "a0cc1054-4be0-4da5-ba71-4cac01a27b97"
      },
      "outputs": [
        {
          "name": "stdout",
          "output_type": "stream",
          "text": [
            "Model: \"sequential\"\n",
            "_________________________________________________________________\n",
            " Layer (type)                Output Shape              Param #   \n",
            "=================================================================\n",
            " conv2d (Conv2D)             (None, 198, 198, 32)      896       \n",
            "                                                                 \n",
            " max_pooling2d (MaxPooling2D  (None, 99, 99, 32)       0         \n",
            " )                                                               \n",
            "                                                                 \n",
            " conv2d_1 (Conv2D)           (None, 97, 97, 64)        18496     \n",
            "                                                                 \n",
            " max_pooling2d_1 (MaxPooling  (None, 48, 48, 64)       0         \n",
            " 2D)                                                             \n",
            "                                                                 \n",
            " conv2d_2 (Conv2D)           (None, 46, 46, 128)       73856     \n",
            "                                                                 \n",
            " max_pooling2d_2 (MaxPooling  (None, 23, 23, 128)      0         \n",
            " 2D)                                                             \n",
            "                                                                 \n",
            " flatten (Flatten)           (None, 67712)             0         \n",
            "                                                                 \n",
            " dense (Dense)               (None, 512)               34669056  \n",
            "                                                                 \n",
            " dense_1 (Dense)             (None, 3)                 1539      \n",
            "                                                                 \n",
            "=================================================================\n",
            "Total params: 34,763,843\n",
            "Trainable params: 34,763,843\n",
            "Non-trainable params: 0\n",
            "_________________________________________________________________\n"
          ]
        }
      ],
      "source": [
        "# Get summary from the cnn model\n",
        "model.summary()"
      ]
    },
    {
      "cell_type": "markdown",
      "metadata": {
        "id": "p2zvMge8fvhn"
      },
      "source": [
        "# **Train Model**"
      ]
    },
    {
      "cell_type": "code",
      "execution_count": 13,
      "metadata": {
        "id": "Sk6hL-F6L7hQ"
      },
      "outputs": [],
      "source": [
        "checkpoint = ModelCheckpoint(r\"./model/best_model_train.h5\",\n",
        "                                   save_best_only=True,\n",
        "                                   monitor='val_loss',\n",
        "                                   mode='max',\n",
        "                                   verbose=1)\n",
        "\n",
        "# Early stopping to stop training if there is no improvement in validation loss\n",
        "early_stopping = EarlyStopping(monitor='val_loss', patience=3, restore_best_weights=True, verbose=1)\n",
        "\n",
        "# Create Log Event\n",
        "logdir='logs'\n",
        "\n",
        "tensorboard_callback = tf.keras.callbacks.TensorBoard(log_dir=logdir)"
      ]
    },
    {
      "cell_type": "code",
      "execution_count": 14,
      "metadata": {
        "colab": {
          "base_uri": "https://localhost:8080/"
        },
        "id": "YUXxMNFjL7hR",
        "outputId": "4baa07d1-a26f-40d3-c151-f37c4a0b0bf2"
      },
      "outputs": [
        {
          "name": "stdout",
          "output_type": "stream",
          "text": [
            "Epoch 1/20\n",
            "82/82 [==============================] - ETA: 0s - loss: 1.1859 - accuracy: 0.4399\n",
            "Epoch 1: accuracy improved from -inf to 0.43991, saving model to ./model\\best_model_train.h5\n",
            "82/82 [==============================] - 40s 433ms/step - loss: 1.1859 - accuracy: 0.4399 - val_loss: 0.8796 - val_accuracy: 0.7083\n",
            "Epoch 2/20\n",
            "82/82 [==============================] - ETA: 0s - loss: 0.9234 - accuracy: 0.5724\n",
            "Epoch 2: accuracy improved from 0.43991 to 0.57242, saving model to ./model\\best_model_train.h5\n",
            "82/82 [==============================] - 28s 339ms/step - loss: 0.9234 - accuracy: 0.5724 - val_loss: 0.6237 - val_accuracy: 0.7512\n",
            "Epoch 3/20\n",
            "82/82 [==============================] - ETA: 0s - loss: 0.6452 - accuracy: 0.7411\n",
            "Epoch 3: accuracy improved from 0.57242 to 0.74114, saving model to ./model\\best_model_train.h5\n",
            "82/82 [==============================] - 20s 240ms/step - loss: 0.6452 - accuracy: 0.7411 - val_loss: 0.2927 - val_accuracy: 0.9201\n",
            "Epoch 4/20\n",
            "82/82 [==============================] - ETA: 0s - loss: 0.5459 - accuracy: 0.7827\n",
            "Epoch 4: accuracy improved from 0.74114 to 0.78274, saving model to ./model\\best_model_train.h5\n",
            "82/82 [==============================] - 18s 224ms/step - loss: 0.5459 - accuracy: 0.7827 - val_loss: 0.2481 - val_accuracy: 0.9201\n",
            "Epoch 5/20\n",
            "82/82 [==============================] - ETA: 0s - loss: 0.4855 - accuracy: 0.8112\n",
            "Epoch 5: accuracy improved from 0.78274 to 0.81125, saving model to ./model\\best_model_train.h5\n",
            "82/82 [==============================] - 20s 239ms/step - loss: 0.4855 - accuracy: 0.8112 - val_loss: 0.3054 - val_accuracy: 0.8889\n",
            "Epoch 6/20\n",
            "82/82 [==============================] - ETA: 0s - loss: 0.5029 - accuracy: 0.8097\n",
            "Epoch 6: accuracy did not improve from 0.81125\n",
            "82/82 [==============================] - 17s 208ms/step - loss: 0.5029 - accuracy: 0.8097 - val_loss: 0.2435 - val_accuracy: 0.9433\n",
            "Epoch 7/20\n",
            "82/82 [==============================] - ETA: 0s - loss: 0.4062 - accuracy: 0.8451\n",
            "Epoch 7: accuracy improved from 0.81125 to 0.84515, saving model to ./model\\best_model_train.h5\n",
            "82/82 [==============================] - 22s 265ms/step - loss: 0.4062 - accuracy: 0.8451 - val_loss: 0.1428 - val_accuracy: 0.9711\n",
            "Epoch 8/20\n",
            "82/82 [==============================] - ETA: 0s - loss: 0.3705 - accuracy: 0.8552\n",
            "Epoch 8: accuracy improved from 0.84515 to 0.85516, saving model to ./model\\best_model_train.h5\n",
            "82/82 [==============================] - 20s 247ms/step - loss: 0.3705 - accuracy: 0.8552 - val_loss: 0.1855 - val_accuracy: 0.9502\n",
            "Epoch 9/20\n",
            "82/82 [==============================] - ETA: 0s - loss: 0.3485 - accuracy: 0.8721\n",
            "Epoch 9: accuracy improved from 0.85516 to 0.87211, saving model to ./model\\best_model_train.h5\n",
            "82/82 [==============================] - 20s 245ms/step - loss: 0.3485 - accuracy: 0.8721 - val_loss: 0.1271 - val_accuracy: 0.9861\n",
            "Epoch 10/20\n",
            "82/82 [==============================] - ETA: 0s - loss: 0.2798 - accuracy: 0.9014\n",
            "Epoch 10: accuracy improved from 0.87211 to 0.90139, saving model to ./model\\best_model_train.h5\n",
            "82/82 [==============================] - 18s 214ms/step - loss: 0.2798 - accuracy: 0.9014 - val_loss: 0.1024 - val_accuracy: 0.9803\n",
            "Epoch 11/20\n",
            "82/82 [==============================] - ETA: 0s - loss: 0.2776 - accuracy: 0.8968\n",
            "Epoch 11: accuracy did not improve from 0.90139\n",
            "82/82 [==============================] - 18s 216ms/step - loss: 0.2776 - accuracy: 0.8968 - val_loss: 0.1833 - val_accuracy: 0.9120\n",
            "Epoch 12/20\n",
            "82/82 [==============================] - ETA: 0s - loss: 0.3103 - accuracy: 0.8767\n",
            "Epoch 12: accuracy did not improve from 0.90139\n",
            "82/82 [==============================] - 18s 219ms/step - loss: 0.3103 - accuracy: 0.8767 - val_loss: 0.0816 - val_accuracy: 0.9850\n",
            "Epoch 13/20\n",
            "82/82 [==============================] - ETA: 0s - loss: 0.2195 - accuracy: 0.9168\n",
            "Epoch 13: accuracy improved from 0.90139 to 0.91680, saving model to ./model\\best_model_train.h5\n",
            "82/82 [==============================] - 20s 247ms/step - loss: 0.2195 - accuracy: 0.9168 - val_loss: 0.0746 - val_accuracy: 0.9815\n",
            "Epoch 14/20\n",
            "82/82 [==============================] - ETA: 0s - loss: 0.2463 - accuracy: 0.9129\n",
            "Epoch 14: accuracy did not improve from 0.91680\n",
            "82/82 [==============================] - 18s 220ms/step - loss: 0.2463 - accuracy: 0.9129 - val_loss: 0.1261 - val_accuracy: 0.9641\n",
            "Epoch 15/20\n",
            "82/82 [==============================] - ETA: 0s - loss: 0.2471 - accuracy: 0.9091\n",
            "Epoch 15: accuracy did not improve from 0.91680\n",
            "82/82 [==============================] - 18s 218ms/step - loss: 0.2471 - accuracy: 0.9091 - val_loss: 0.0696 - val_accuracy: 0.9850\n",
            "Epoch 16/20\n",
            "82/82 [==============================] - ETA: 0s - loss: 0.1997 - accuracy: 0.9314\n",
            "Epoch 16: accuracy improved from 0.91680 to 0.93143, saving model to ./model\\best_model_train.h5\n",
            "82/82 [==============================] - 18s 221ms/step - loss: 0.1997 - accuracy: 0.9314 - val_loss: 0.0563 - val_accuracy: 0.9850\n",
            "Epoch 17/20\n",
            "82/82 [==============================] - ETA: 0s - loss: 0.1893 - accuracy: 0.9461\n",
            "Epoch 17: accuracy improved from 0.93143 to 0.94607, saving model to ./model\\best_model_train.h5\n",
            "82/82 [==============================] - 18s 214ms/step - loss: 0.1893 - accuracy: 0.9461 - val_loss: 0.0405 - val_accuracy: 0.9931\n",
            "Epoch 18/20\n",
            "82/82 [==============================] - ETA: 0s - loss: 0.1556 - accuracy: 0.9461\n",
            "Epoch 18: accuracy did not improve from 0.94607\n",
            "82/82 [==============================] - 16s 199ms/step - loss: 0.1556 - accuracy: 0.9461 - val_loss: 0.0469 - val_accuracy: 0.9861\n",
            "Epoch 19/20\n",
            "82/82 [==============================] - ETA: 0s - loss: 0.1937 - accuracy: 0.9314\n",
            "Epoch 19: accuracy did not improve from 0.94607\n",
            "82/82 [==============================] - 17s 201ms/step - loss: 0.1937 - accuracy: 0.9314 - val_loss: 0.0537 - val_accuracy: 0.9826\n",
            "Epoch 20/20\n",
            "82/82 [==============================] - ETA: 0s - loss: 0.1357 - accuracy: 0.9522\n",
            "Epoch 20: accuracy improved from 0.94607 to 0.95223, saving model to ./model\\best_model_train.h5\n",
            "82/82 [==============================] - 18s 225ms/step - loss: 0.1357 - accuracy: 0.9522 - val_loss: 0.0310 - val_accuracy: 0.9919\n"
          ]
        }
      ],
      "source": [
        "# Train the model\n",
        "hist = model.fit(\n",
        "    train_generator,\n",
        "    steps_per_epoch=train_generator.samples // train_generator.batch_size,\n",
        "    epochs=20,\n",
        "    validation_data=validation_generator,\n",
        "    validation_steps=validation_generator.samples // validation_generator.batch_size,\n",
        "    callbacks=[checkpoint, early_stopping, tensorboard_callback]\n",
        ")"
      ]
    },
    {
      "cell_type": "code",
      "execution_count": 15,
      "metadata": {
        "id": "80Wj-m5GL7hR"
      },
      "outputs": [],
      "source": [
        "# Save the model for future use\n",
        "model.save(r\"./model/rock_paper_scissors_model.h5\")"
      ]
    },
    {
      "cell_type": "markdown",
      "metadata": {
        "id": "uHDcTKfNgBWV"
      },
      "source": [
        "# **Plot Perfomance**"
      ]
    },
    {
      "cell_type": "code",
      "execution_count": 16,
      "metadata": {
        "colab": {
          "base_uri": "https://localhost:8080/",
          "height": 478
        },
        "id": "UvYWqHdbgEaN",
        "outputId": "02cc66be-03a2-4b49-9784-050140db018a"
      },
      "outputs": [
        {
          "data": {
            "image/png": "[encoded data removed]",
            "text/plain": [
              "<Figure size 640x480 with 1 Axes>"
            ]
          },
          "metadata": {},
          "output_type": "display_data"
        }
      ],
      "source": [
        "# Create Plot Perfomance between val_loss and loss\n",
        "fig = plt.figure()\n",
        "plt.plot(hist.history['loss'], color='teal', label='loss')\n",
        "plt.plot(hist.history['val_loss'], color='orange', label='val_loss')\n",
        "fig.suptitle('Loss', fontsize=20)\n",
        "plt.legend(loc=\"upper left\")\n",
        "plt.show()"
      ]
    },
    {
      "cell_type": "code",
      "execution_count": 17,
      "metadata": {
        "colab": {
          "base_uri": "https://localhost:8080/",
          "height": 478
        },
        "id": "TjaeH85zgL0g",
        "outputId": "2f3a6b33-e9de-4d01-a5c2-ea39a63d55f9"
      },
      "outputs": [
        {
          "data": {
            "image/png": "[encoded data removed]",
            "text/plain": [
              "<Figure size 640x480 with 1 Axes>"
            ]
          },
          "metadata": {},
          "output_type": "display_data"
        }
      ],
      "source": [
        "# Create Plot Perfomance between val_accuracy and accuracy\n",
        "fig = plt.figure()\n",
        "plt.plot(hist.history['accuracy'], color='teal', label='accuracy')\n",
        "plt.plot(hist.history['val_accuracy'], color='orange', label='val_accuracy')\n",
        "fig.suptitle('Accuracy', fontsize=20)\n",
        "plt.legend(loc=\"upper left\")\n",
        "plt.show()"
      ]
    },
    {
      "cell_type": "markdown",
      "metadata": {
        "id": "9G6EmetHf1OK"
      },
      "source": [
        "# **Predict**"
      ]
    },
    {
      "cell_type": "code",
      "execution_count": 18,
      "metadata": {
        "id": "6_rAxYNcYa6m"
      },
      "outputs": [],
      "source": [
        "# Assuming you used this for training\n",
        "train_datagen = ImageDataGenerator(rescale=1./255)"
      ]
    },
    {
      "cell_type": "code",
      "execution_count": 19,
      "metadata": {
        "id": "ehC-VmdjL7hS"
      },
      "outputs": [],
      "source": [
        "# Function to preprocess the uploaded image for prediction\n",
        "def preprocess_uploaded_image(uploaded_image):\n",
        "    img = tf_image.load_img(uploaded_image, target_size=(200, 200))\n",
        "    img_array = tf_image.img_to_array(img)\n",
        "    img_array = np.expand_dims(img_array, axis=0)\n",
        "    return train_datagen.flow(img_array)\n",
        "\n",
        "# Function to make predictions\n",
        "def predict_uploaded_image(uploaded_image):\n",
        "    processed_image = preprocess_uploaded_image(uploaded_image)\n",
        "    predictions = model.predict(processed_image)\n",
        "    class_index = np.argmax(predictions[0])\n",
        "    classes = ['paper', 'rock', 'scissors']\n",
        "    predicted_class = classes[class_index]\n",
        "    predictions = predictions[0][class_index] * 100\n",
        "    predictions = \"{:.2f}\".format(predictions)\n",
        "    return predicted_class, predictions"
      ]
    },
    {
      "cell_type": "code",
      "execution_count": 20,
      "metadata": {
        "id": "yUiQPKDlL7hS"
      },
      "outputs": [],
      "source": [
        "# Load the trained model\n",
        "model_path = r\"./model/best_model_train.h5\"\n",
        "model = load_model(model_path)"
      ]
    },
    {
      "cell_type": "code",
      "execution_count": 21,
      "metadata": {},
      "outputs": [],
      "source": [
        "# Tkinter GUI\n",
        "class RockPaperScissorsApp:\n",
        "    def __init__(self, root):\n",
        "        self.root = root\n",
        "        self.root.title(\"Rock Paper Scissors Predictor\")\n",
        "\n",
        "        self.label = tk.Label(root, text=\"Select an image:\")\n",
        "        self.label.pack(pady=10)\n",
        "\n",
        "        self.browse_button = tk.Button(root, text=\"Browse\", command=self.browse_image)\n",
        "        self.browse_button.pack(pady=10)\n",
        "\n",
        "        self.result_label = tk.Label(root, text=\"\")\n",
        "        self.result_label.pack(pady=10)\n",
        "\n",
        "    def browse_image(self):\n",
        "        file_path = filedialog.askopenfilename(filetypes=[(\"Image files\", \"*.png;*.jpg;*.jpeg\")])\n",
        "        if file_path:\n",
        "            self.display_image(file_path)\n",
        "            predicted_class, probabilities = predict_uploaded_image(file_path)\n",
        "            result_text = f\"Prediction: {predicted_class}\\nProbabilities: {probabilities}\"\n",
        "            self.result_label.config(text=result_text)\n",
        "\n",
        "    def display_image(self, file_path):\n",
        "        img = Image.open(file_path)\n",
        "        img = img.resize((200, 200), Image.LANCZOS)\n",
        "        img = ImageTk.PhotoImage(img)\n",
        "        img_label = tk.Label(self.root, image=img)\n",
        "        img_label.image = img\n",
        "        img_label.pack(pady=10)\n"
      ]
    },
    {
      "cell_type": "code",
      "execution_count": 26,
      "metadata": {},
      "outputs": [
        {
          "name": "stdout",
          "output_type": "stream",
          "text": [
            "1/1 [==============================] - 0s 54ms/step\n",
            "1/1 [==============================] - 0s 70ms/step\n",
            "1/1 [==============================] - 0s 55ms/step\n",
            "1/1 [==============================] - 0s 68ms/step\n"
          ]
        }
      ],
      "source": [
        "if __name__ == \"__main__\":\n",
        "    root = tk.Tk()\n",
        "    app = RockPaperScissorsApp(root)\n",
        "    root.mainloop()"
      ]
    }
  ],
  "metadata": {
    "accelerator": "GPU",
    "colab": {
      "provenance": []
    },
    "kernelspec": {
      "display_name": "Python 3",
      "name": "python3"
    },
    "language_info": {
      "codemirror_mode": {
        "name": "ipython",
        "version": 3
      },
      "file_extension": ".py",
      "mimetype": "text/x-python",
      "name": "python",
      "nbconvert_exporter": "python",
      "pygments_lexer": "ipython3",
      "version": "3.9.18"
    }
  },
  "nbformat": 4,
  "nbformat_minor": 0
}
